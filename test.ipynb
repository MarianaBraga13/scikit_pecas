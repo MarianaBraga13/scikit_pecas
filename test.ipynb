{
 "cells": [
  {
   "cell_type": "code",
   "execution_count": 5,
   "id": "d507a721",
   "metadata": {},
   "outputs": [],
   "source": [
    "# import pandas as pd\n",
    "\n",
    "# df = pd.read_csv(\"pecas.csv\")\n",
    "# df"
   ]
  },
  {
   "cell_type": "code",
   "execution_count": 6,
   "id": "c86864e3",
   "metadata": {},
   "outputs": [],
   "source": [
    "# import matplotlib.pyplot as plt\n",
    "# import pandas as pd\n",
    "\n",
    "# df = pd.read_csv(\"pecas.csv\")\n",
    "# df.plot(kind=\"scatter\", x=\"diametro\" , y=\"preco\")\n",
    "# plt.show()"
   ]
  },
  {
   "cell_type": "code",
   "execution_count": 7,
   "id": "b8a4bb55",
   "metadata": {},
   "outputs": [],
   "source": [
    "# from sklearn import linear_model\n",
    "# import pandas as pd\n",
    "\n",
    "# df = pd.read_csv(\"pecas.csv\")\n",
    "\n",
    "# modelo = linear_model.LinearRegression()\n",
    "# x = df[[\"diametro\"]]\n",
    "# y = df[[\"preco\"]]\n",
    "\n",
    "# print(x.head())\n",
    "# print(y.head())\n",
    "\n",
    "# modelo.fit(x,y)"
   ]
  },
  {
   "cell_type": "code",
   "execution_count": 8,
   "id": "6ff7f467",
   "metadata": {},
   "outputs": [],
   "source": [
    "# print(modelo.predict([[55]])[0][0])"
   ]
  }
 ],
 "metadata": {
  "kernelspec": {
   "display_name": "venv",
   "language": "python",
   "name": "python3"
  },
  "language_info": {
   "codemirror_mode": {
    "name": "ipython",
    "version": 3
   },
   "file_extension": ".py",
   "mimetype": "text/x-python",
   "name": "python",
   "nbconvert_exporter": "python",
   "pygments_lexer": "ipython3",
   "version": "3.13.2"
  }
 },
 "nbformat": 4,
 "nbformat_minor": 5
}
